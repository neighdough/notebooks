{
 "cells": [
  {
   "cell_type": "markdown",
   "metadata": {
    "slideshow": {
     "slide_type": "slide"
    }
   },
   "source": [
    "# Classifying Neighborhood State\n",
    "\n",
    "\n",
    "### Nate Ron-Ferguson\n",
    "### COMP 8745\n"
   ]
  },
  {
   "cell_type": "markdown",
   "metadata": {
    "collapsed": true,
    "slideshow": {
     "slide_type": "slide"
    }
   },
   "source": [
    "## Background\n",
    "\n",
    "\n",
    "* Definitions\n",
    "    * Neighborhood \n",
    "    * Condition\n",
    "\n",
    "\n",
    "\n"
   ]
  },
  {
   "cell_type": "markdown",
   "metadata": {
    "slideshow": {
     "slide_type": "subslide"
    }
   },
   "source": [
    "<img src=\"./files/tract_overview.jpeg\">"
   ]
  },
  {
   "cell_type": "markdown",
   "metadata": {
    "slideshow": {
     "slide_type": "subslide"
    }
   },
   "source": [
    "<img src=\"./files/tract_uofm.jpeg\">"
   ]
  },
  {
   "cell_type": "markdown",
   "metadata": {
    "slideshow": {
     "slide_type": "slide"
    }
   },
   "source": [
    "## State/Condition\n",
    "\n",
    "* Need to be able to understand current status and trend of neighborhood\n",
    "* Helps identify areas for future research"
   ]
  },
  {
   "cell_type": "markdown",
   "metadata": {
    "slideshow": {
     "slide_type": "subslide"
    }
   },
   "source": [
    "<img src=\"./files/PopulationChange_1960-2010_mod.gif\">"
   ]
  },
  {
   "cell_type": "code",
   "execution_count": 15,
   "metadata": {
    "collapsed": false,
    "slideshow": {
     "slide_type": "subslide"
    }
   },
   "outputs": [
    {
     "data": {
      "text/html": [
       "<div>\n",
       "<table border=\"1\" class=\"dataframe\">\n",
       "  <thead>\n",
       "    <tr style=\"text-align: right;\">\n",
       "      <th></th>\n",
       "      <th>Socioeconomic Variables</th>\n",
       "    </tr>\n",
       "  </thead>\n",
       "  <tbody>\n",
       "    <tr>\n",
       "      <th>0</th>\n",
       "      <td>% Persons with at least a 4-year degree</td>\n",
       "    </tr>\n",
       "    <tr>\n",
       "      <th>1</th>\n",
       "      <td>% Unemployed</td>\n",
       "    </tr>\n",
       "    <tr>\n",
       "      <th>2</th>\n",
       "      <td>% Manufacturing employees</td>\n",
       "    </tr>\n",
       "    <tr>\n",
       "      <th>3</th>\n",
       "      <td>% Below poverty level</td>\n",
       "    </tr>\n",
       "  </tbody>\n",
       "</table>\n",
       "</div>"
      ],
      "text/plain": [
       "                   Socioeconomic Variables\n",
       "0  % Persons with at least a 4-year degree\n",
       "1                             % Unemployed\n",
       "2                % Manufacturing employees\n",
       "3                    % Below poverty level"
      ]
     },
     "execution_count": 15,
     "metadata": {},
     "output_type": "execute_result"
    }
   ],
   "source": [
    "import pandas as pd\n",
    "\n",
    "pd.read_csv('./files/socio.csv')"
   ]
  },
  {
   "cell_type": "code",
   "execution_count": 16,
   "metadata": {
    "collapsed": false,
    "slideshow": {
     "slide_type": "subslide"
    }
   },
   "outputs": [
    {
     "data": {
      "text/html": [
       "<div>\n",
       "<table border=\"1\" class=\"dataframe\">\n",
       "  <thead>\n",
       "    <tr style=\"text-align: right;\">\n",
       "      <th></th>\n",
       "      <th>Housing</th>\n",
       "    </tr>\n",
       "  </thead>\n",
       "  <tbody>\n",
       "    <tr>\n",
       "      <th>0</th>\n",
       "      <td>% Owner occupied</td>\n",
       "    </tr>\n",
       "    <tr>\n",
       "      <th>1</th>\n",
       "      <td>% Multiunit structures</td>\n",
       "    </tr>\n",
       "    <tr>\n",
       "      <th>2</th>\n",
       "      <td>Median home value</td>\n",
       "    </tr>\n",
       "    <tr>\n",
       "      <th>3</th>\n",
       "      <td>% Structures built more than 30 years ago</td>\n",
       "    </tr>\n",
       "    <tr>\n",
       "      <th>4</th>\n",
       "      <td>% Household heads move &lt; 10 years ago</td>\n",
       "    </tr>\n",
       "    <tr>\n",
       "      <th>5</th>\n",
       "      <td>% Vacant housing</td>\n",
       "    </tr>\n",
       "  </tbody>\n",
       "</table>\n",
       "</div>"
      ],
      "text/plain": [
       "                                     Housing\n",
       "0                           % Owner occupied\n",
       "1                     % Multiunit structures\n",
       "2                          Median home value\n",
       "3  % Structures built more than 30 years ago\n",
       "4      % Household heads move < 10 years ago\n",
       "5                           % Vacant housing"
      ]
     },
     "execution_count": 16,
     "metadata": {},
     "output_type": "execute_result"
    }
   ],
   "source": [
    "pd.read_csv('./files/housing.csv')"
   ]
  },
  {
   "cell_type": "code",
   "execution_count": 17,
   "metadata": {
    "collapsed": false,
    "slideshow": {
     "slide_type": "subslide"
    }
   },
   "outputs": [
    {
     "data": {
      "text/html": [
       "<div>\n",
       "<table border=\"1\" class=\"dataframe\">\n",
       "  <thead>\n",
       "    <tr style=\"text-align: right;\">\n",
       "      <th></th>\n",
       "      <th>Demographic</th>\n",
       "    </tr>\n",
       "  </thead>\n",
       "  <tbody>\n",
       "    <tr>\n",
       "      <th>0</th>\n",
       "      <td>% Persons age 60 years and above</td>\n",
       "    </tr>\n",
       "    <tr>\n",
       "      <th>1</th>\n",
       "      <td>% Persons age 18 and under</td>\n",
       "    </tr>\n",
       "  </tbody>\n",
       "</table>\n",
       "</div>"
      ],
      "text/plain": [
       "                        Demographic\n",
       "0  % Persons age 60 years and above\n",
       "1        % Persons age 18 and under"
      ]
     },
     "execution_count": 17,
     "metadata": {},
     "output_type": "execute_result"
    }
   ],
   "source": [
    "pd.read_csv('./files/dem.csv')"
   ]
  },
  {
   "cell_type": "markdown",
   "metadata": {
    "slideshow": {
     "slide_type": "slide"
    }
   },
   "source": [
    "## Classification\n",
    "\n",
    "* Variety of Methods\n",
    "    * KNN\n",
    "    * K-Means\n"
   ]
  },
  {
   "cell_type": "markdown",
   "metadata": {
    "slideshow": {
     "slide_type": "fragment"
    }
   },
   "source": [
    "* Each with limitations and drawbacks\n",
    "* Notably, runtime and number of features"
   ]
  },
  {
   "cell_type": "markdown",
   "metadata": {
    "slideshow": {
     "slide_type": "slide"
    }
   },
   "source": [
    "## Adaboost"
   ]
  },
  {
   "cell_type": "markdown",
   "metadata": {
    "slideshow": {
     "slide_type": "subslide"
    }
   },
   "source": [
    "#### Original Implementation\n",
    "\n",
    "\n",
    "\n"
   ]
  },
  {
   "cell_type": "markdown",
   "metadata": {
    "slideshow": {
     "slide_type": "fragment"
    }
   },
   "source": [
    "Adjust weights by increasing or decreasing importance based on accuracy of classification"
   ]
  },
  {
   "cell_type": "markdown",
   "metadata": {
    "slideshow": {
     "slide_type": "fragment"
    }
   },
   "source": [
    "\n",
    "$\\alpha^{(m)} = log \\frac{1-err^{(m)}}{err^{(m)}}$"
   ]
  },
  {
   "cell_type": "markdown",
   "metadata": {
    "slideshow": {
     "slide_type": "fragment"
    }
   },
   "source": [
    "### Limitations\n",
    "* Binary Classification"
   ]
  },
  {
   "cell_type": "markdown",
   "metadata": {
    "slideshow": {
     "slide_type": "slide"
    }
   },
   "source": [
    "## Multi-Class Adaboost - SAMME\n",
    "\n",
    "\n",
    "* Stagewise Additive Modeling using a Multi-class Exponential loss function\n",
    "\n",
    "* Expands on Original Adaboost by including additional term with $\\alpha$\n",
    "\n"
   ]
  },
  {
   "cell_type": "markdown",
   "metadata": {
    "slideshow": {
     "slide_type": "fragment"
    }
   },
   "source": [
    "\n",
    "$\\alpha^{(m)} = log \\frac {1-err^{(m)}}{err^{(m)}} +log(K-1)$\n",
    "\n",
    "\n"
   ]
  },
  {
   "cell_type": "markdown",
   "metadata": {
    "slideshow": {
     "slide_type": "fragment"
    }
   },
   "source": [
    "$ K = 2\\ $ results in AdaBoost"
   ]
  },
  {
   "cell_type": "markdown",
   "metadata": {
    "slideshow": {
     "slide_type": "fragment"
    }
   },
   "source": [
    "#### Downside\n",
    "\n",
    "still requires labeled data to perform classification"
   ]
  },
  {
   "cell_type": "markdown",
   "metadata": {
    "slideshow": {
     "slide_type": "slide"
    }
   },
   "source": [
    "##  Semi-Supervised Multi-Class Adaboost"
   ]
  },
  {
   "cell_type": "markdown",
   "metadata": {
    "slideshow": {
     "slide_type": "subslide"
    }
   },
   "source": [
    "#### Uses multi-class base classifier (Decision Trees) as weak learner\n",
    "\n"
   ]
  },
  {
   "cell_type": "markdown",
   "metadata": {
    "slideshow": {
     "slide_type": "fragment"
    }
   },
   "source": [
    "$\\beta$ is a coefficient that determines weight of base classifier"
   ]
  },
  {
   "cell_type": "markdown",
   "metadata": {
    "slideshow": {
     "slide_type": "fragment"
    }
   },
   "source": [
    "\n",
    "$\n",
    "\\beta^{(m)}=\\frac{(K-1)^{2}}{K} \\ast (log(\\frac{(1-error^{(m)})}{error^{(m)}})+log(K-1))\n",
    "$"
   ]
  },
  {
   "cell_type": "markdown",
   "metadata": {
    "slideshow": {
     "slide_type": "fragment"
    }
   },
   "source": [
    "Update weights for labeled and unlabeled seperately"
   ]
  },
  {
   "cell_type": "markdown",
   "metadata": {
    "collapsed": true,
    "slideshow": {
     "slide_type": "fragment"
    }
   },
   "source": [
    "$ \\alpha * w_{i}^{(m-1)} * exp(\\frac{-\\beta^{(m)}}{(K-1)^2})$\n",
    "\n",
    "if $i\\ \\epsilon \\{i | c_{i} \\not = P^{(m)}(x_{i})\\\n",
    "i = 1,2,...,n_{l}\\}$"
   ]
  },
  {
   "cell_type": "markdown",
   "metadata": {
    "slideshow": {
     "slide_type": "fragment"
    }
   },
   "source": [
    "$ w_{i}^{(m-1)} * exp(\\frac{-\\beta^{(m)}}{(K-1)^2})$\n",
    "\n",
    "if $i\\ \\epsilon \\{i | c_{i} \\not = P^{(m)}(x_{i})\\\n",
    "i = n_{l} + 1,n_{l}+2,...,n_{l} + n_{u}\\}$"
   ]
  },
  {
   "cell_type": "markdown",
   "metadata": {
    "slideshow": {
     "slide_type": "subslide"
    }
   },
   "source": [
    "### Algorithm\n",
    "\n",
    "#### Inputs\n",
    "* D: training set with labled and unlabled examples\n",
    "* $n_{l}$: number of labeled examples\n",
    "* $n_{u}$: number of unlabeled examples\n",
    "* M: maximum number of iterations\n",
    "\n",
    "### Initialize\n",
    "* Weights for labeled and unlabeled examples\n",
    "* Assign pseudo-class to unlabled examples using KNN with K=1\n",
    "* $H^{(0)}(x) = 0$\n",
    "\n",
    "\n"
   ]
  },
  {
   "cell_type": "markdown",
   "metadata": {
    "slideshow": {
     "slide_type": "subslide"
    }
   },
   "source": [
    "### Algorithm\n",
    "\n",
    "For m =1,2,...,M:\n",
    "* Train multi-class base classifier (Decision Tree) $P^{(0)}(x)$ using labeled data and weight $w_{i}^{(m-1)}$\n",
    "* Evaluate $P^{(m)}(x_{i}), i = 1,2,...,n_{l} + n_{u}$\n",
    "* Compute error:\n",
    "\n",
    "$error^{(m)} = \\frac{\\sum_{j=1}^{nl+nu}w_{j}^{(m-1)}}{\\sum_{i=1}^{nl+nu}w_{i}^{(m-1)}},\\ j\\ \\epsilon \\{j|c_{j} \\not = P^{(m)}(x_{j}), j = 1,2,...,nl + nu\\}$\n",
    "    \n",
    "    \n"
   ]
  },
  {
   "cell_type": "markdown",
   "metadata": {
    "slideshow": {
     "slide_type": "subslide"
    }
   },
   "source": [
    "### Algorithm\n",
    "\n",
    "* If $error^{(m)} > (K-1)/(K)$, exit\n",
    "\n",
    "* Set:\n",
    "\n",
    "$\\beta^{(m)}=\\frac{(K-1)^{2}}{K} \\ast (log(\\frac{(1-error^{(m)})}{error^{(m)}})+log(K-1))$\n",
    "\n",
    "\n"
   ]
  },
  {
   "cell_type": "markdown",
   "metadata": {
    "slideshow": {
     "slide_type": "subslide"
    }
   },
   "source": [
    "### Algorithm\n",
    "* Update weights\n",
    "\n",
    "$ \\alpha * w_{i}^{(m-1)} * exp(\\frac{-\\beta^{(m)}}{(K-1)^2})$\n",
    "\n",
    "if $i\\ \\epsilon \\{i | c_{i} \\not = P^{(m)}(x_{i})\\\n",
    "i = 1,2,...,n_{l}\\}$\n",
    "\n",
    "$ w_{i}^{(m-1)} * exp(\\frac{-\\beta^{(m)}}{(K-1)^2})$\n",
    "\n",
    "if $i\\ \\epsilon \\{i | c_{i} \\not = P^{(m)}(x_{i})\\\n",
    "i = n_{l} + 1,n_{l}+2,...,n_{l} + n_{u}\\}$\n",
    "\n",
    "\n"
   ]
  },
  {
   "cell_type": "markdown",
   "metadata": {
    "slideshow": {
     "slide_type": "subslide"
    }
   },
   "source": [
    "### Algorithm\n",
    "\n",
    "\n",
    "* Normalize $w_{i}^{(m)}$\n",
    "\n",
    "$w_{i}^{(m)} * \\frac{\\sum_{i=1}^{n_{l}+n_{u}}\\ w_{i}^{(m-1)}} {\\sum_{i}^{n_{l}+n_{u}}\\ w_{i=1}^{(m)}}$,\n",
    "$i = 1,2,...,n_{l} + n_{u}$\n",
    "\n",
    "\n",
    "\n",
    "\n",
    "\n"
   ]
  },
  {
   "cell_type": "markdown",
   "metadata": {
    "slideshow": {
     "slide_type": "subslide"
    }
   },
   "source": [
    "### Algorithm\n",
    "\n",
    "* Update \n",
    "\n",
    "$H^{(m)}(x) = H^{(m-1)}(x) + \\beta^{(m)}(x) h^{(m)}(x)$\n"
   ]
  },
  {
   "cell_type": "markdown",
   "metadata": {
    "collapsed": true,
    "slideshow": {
     "slide_type": "slide"
    }
   },
   "source": [
    "## Implementation"
   ]
  },
  {
   "cell_type": "markdown",
   "metadata": {
    "collapsed": true,
    "slideshow": {
     "slide_type": "slide"
    }
   },
   "source": [
    "import numpy as np                                                              \n",
    "import pandas as pd                                                                      \n",
    "from sklearn.tree import DecisionTreeClassifier                                 \n",
    "from sklearn.neighbors import KNeighborsClassifier "
   ]
  },
  {
   "cell_type": "markdown",
   "metadata": {
    "collapsed": true,
    "slideshow": {
     "slide_type": "slide"
    }
   },
   "source": [
    "## Initial Results"
   ]
  },
  {
   "cell_type": "markdown",
   "metadata": {
    "collapsed": true,
    "slideshow": {
     "slide_type": "subslide"
    }
   },
   "source": [
    "<img src=\"./files/memphis_class.jpeg\">"
   ]
  },
  {
   "cell_type": "markdown",
   "metadata": {
    "slideshow": {
     "slide_type": "subslide"
    }
   },
   "source": [
    "<img src=\"./files/chicago_class.jpeg\">"
   ]
  },
  {
   "cell_type": "markdown",
   "metadata": {
    "slideshow": {
     "slide_type": "subslide"
    }
   },
   "source": [
    "<img src=\"./files/buffalo_class.jpeg\">"
   ]
  },
  {
   "cell_type": "markdown",
   "metadata": {
    "slideshow": {
     "slide_type": "subslide"
    }
   },
   "source": [
    "<img src=\"./files/charlotte_class.jpeg\">"
   ]
  },
  {
   "cell_type": "markdown",
   "metadata": {
    "slideshow": {
     "slide_type": "subslide"
    }
   },
   "source": [
    "<img src=\"./files/portland_class.jpeg\">"
   ]
  },
  {
   "cell_type": "markdown",
   "metadata": {
    "slideshow": {
     "slide_type": "slide"
    }
   },
   "source": [
    "## References\n",
    "[1]R. E. Schapire, “Explaining AdaBoost,” in Empirical Inference, B. Schölkopf, Z. Luo, and V. Vovk, Eds. Springer Berlin Heidelberg, 2013, pp. 37–52.\n",
    "\n",
    "[2]J. Zhu, H. Zou, S. Rosset, and T. Hastie, “Multi-class adaboost,” Statistics and its Interface, vol. 2, no. 3, pp. 349–360, 2009.\n",
    "\n",
    "[3]E. Song, D. Huang, G. Ma, and C.-C. Hung, “Semi-supervised multi-class Adaboost by exploiting unlabeled data,” Expert Systems with Applications, vol. 38, no. 6, pp. 6720–6726, Jun. 2011.\n",
    "\n",
    "[4]E. C. Delmelle, “Five decades of neighborhood classifications and their transitions: A comparison of four US cities, 1970–2010,” Applied Geography, vol. 57, pp. 1–11, Feb. 2015.\n",
    "\n"
   ]
  }
 ],
 "metadata": {
  "celltoolbar": "Slideshow",
  "kernelspec": {
   "display_name": "Python 2",
   "language": "python",
   "name": "python2"
  },
  "language_info": {
   "codemirror_mode": {
    "name": "ipython",
    "version": 2
   },
   "file_extension": ".py",
   "mimetype": "text/x-python",
   "name": "python",
   "nbconvert_exporter": "python",
   "pygments_lexer": "ipython2",
   "version": "2.7.6"
  }
 },
 "nbformat": 4,
 "nbformat_minor": 0
}
